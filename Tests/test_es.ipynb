{
 "cells": [
  {
   "cell_type": "markdown",
   "id": "79c57b81-3faa-426f-9e30-7bea16e47be1",
   "metadata": {},
   "source": [
    "# Módulo de entrada e saída\n",
    "\n",
    "Este módulo oferece funções de entrada e saída de dados."
   ]
  },
  {
   "cell_type": "code",
   "execution_count": 1,
   "id": "32c130ef-9565-4705-a2fd-4ef3a7ca3e8d",
   "metadata": {
    "tags": []
   },
   "outputs": [
    {
     "name": "stdin",
     "output_type": "stream",
     "text": [
      "Digite o primeiro número que deseja operar 4\n"
     ]
    }
   ],
   "source": [
    "## Entrada de dados\n",
    "\n",
    "numero1 = input(\"Digite o primeiro número que deseja operar\")"
   ]
  },
  {
   "cell_type": "code",
   "execution_count": 2,
   "id": "9ead450d-808b-4363-a640-8b7da6157b73",
   "metadata": {
    "tags": []
   },
   "outputs": [
    {
     "data": {
      "text/plain": [
       "'4'"
      ]
     },
     "execution_count": 2,
     "metadata": {},
     "output_type": "execute_result"
    }
   ],
   "source": [
    "numero1"
   ]
  },
  {
   "cell_type": "code",
   "execution_count": 3,
   "id": "762d1a5e-d22a-4161-9688-b5808100d68c",
   "metadata": {
    "tags": []
   },
   "outputs": [
    {
     "name": "stdin",
     "output_type": "stream",
     "text": [
      "Digite o primeiro número que deseja operar 4\n"
     ]
    }
   ],
   "source": [
    "# Transformei a entrada de dados em um número do tipo float\n",
    "\n",
    "numero1 = float(input(\"Digite o primeiro número que deseja operar\"))"
   ]
  },
  {
   "cell_type": "code",
   "execution_count": 4,
   "id": "ccdf53c2-0356-4b73-b6c2-f6e86618c16d",
   "metadata": {
    "tags": []
   },
   "outputs": [
    {
     "data": {
      "text/plain": [
       "12.0"
      ]
     },
     "execution_count": 4,
     "metadata": {},
     "output_type": "execute_result"
    }
   ],
   "source": [
    "numero1+8"
   ]
  },
  {
   "cell_type": "code",
   "execution_count": 5,
   "id": "91f10a5f-6cdc-4ed8-9dcf-c594b7b414e1",
   "metadata": {
    "tags": []
   },
   "outputs": [
    {
     "name": "stdin",
     "output_type": "stream",
     "text": [
      "Digite o primeiro número que deseja operar 450\n"
     ]
    }
   ],
   "source": [
    "# Transformei a entrada de dados em um número do tipo float\n",
    "\n",
    "numero1 = float(input(\"Digite o primeiro número que deseja operar\"))"
   ]
  },
  {
   "cell_type": "code",
   "execution_count": 6,
   "id": "50de8a9a-1cb7-4556-981b-fc45968e6a09",
   "metadata": {
    "tags": []
   },
   "outputs": [
    {
     "data": {
      "text/plain": [
       "470.0"
      ]
     },
     "execution_count": 6,
     "metadata": {},
     "output_type": "execute_result"
    }
   ],
   "source": [
    "numero1 +20"
   ]
  },
  {
   "cell_type": "code",
   "execution_count": 7,
   "id": "9f54c2f1-ba21-4ae6-b37c-6bc66bc6f653",
   "metadata": {
    "tags": []
   },
   "outputs": [
    {
     "name": "stdin",
     "output_type": "stream",
     "text": [
      "Digite o primeiro número que deseja operar 4\n"
     ]
    }
   ],
   "source": [
    "# Transformei a entrada de dados em um número do tipo float\n",
    "\n",
    "numero1 = float(input(\"Digite o primeiro número que deseja operar\"))\n"
   ]
  },
  {
   "cell_type": "code",
   "execution_count": 17,
   "id": "3d1d08ea-f42e-48d0-b553-0afa35e6e9fb",
   "metadata": {
    "tags": []
   },
   "outputs": [
    {
     "name": "stdin",
     "output_type": "stream",
     "text": [
      "Digite o primeiro número 1 que deseja operar 1\n",
      "Digite o primeiro número 2 que deseja operar 2\n"
     ]
    },
    {
     "data": {
      "text/plain": [
       "[1.0, 2.0]"
      ]
     },
     "execution_count": 17,
     "metadata": {},
     "output_type": "execute_result"
    }
   ],
   "source": [
    "# Função que lê dois números sem repetir a frase\n",
    "def leitora():\n",
    "    i = 0\n",
    "    numeros = []\n",
    "    while i < 2:\n",
    "        numeros.append(float(input(f\"Digite o primeiro número {i+1} que deseja operar\")))\n",
    "        i+=1\n",
    "    return numeros\n",
    "\n",
    "leitora()\n",
    "        "
   ]
  },
  {
   "cell_type": "code",
   "execution_count": 18,
   "id": "618e5b41-4986-4b63-8d80-282f7d5b4a28",
   "metadata": {
    "tags": []
   },
   "outputs": [
    {
     "name": "stdin",
     "output_type": "stream",
     "text": [
      "Digite o primeiro número 1 que deseja operar 1\n",
      "Digite o primeiro número 2 que deseja operar 2\n"
     ]
    },
    {
     "data": {
      "text/plain": [
       "[1.0, 2.0]"
      ]
     },
     "execution_count": 18,
     "metadata": {},
     "output_type": "execute_result"
    }
   ],
   "source": [
    "# Função que lê dois números sem repetir a frase\n",
    "def leitora_numeros() -> list:\n",
    "    \"\"\"Esta função insere os número base para a função que o usuário deseja realizar\"\"\"\n",
    "    i = 0\n",
    "    numeros = []\n",
    "    while i < 2:\n",
    "        numeros.append(float(input(f\"Digite o primeiro número {i+1} que deseja operar\")))\n",
    "        i+=1\n",
    "    return numeros\n",
    "\n",
    "reader()\n",
    "         "
   ]
  },
  {
   "cell_type": "code",
   "execution_count": 19,
   "id": "a9b5db09-3eb3-423a-8ee4-b89e8c859d70",
   "metadata": {
    "tags": []
   },
   "outputs": [
    {
     "name": "stdin",
     "output_type": "stream",
     "text": [
      "Digite a operação que deseja realizar. \n",
      "Pressione + para adição; \n",
      "- para subtração; \n",
      "/ para divisão; \n",
      "* para multiplicação -\n"
     ]
    }
   ],
   "source": [
    "# Função que lê a operação que deve ser executada\n",
    "\n",
    "operacao = input(\"\"\"Digite a operação que deseja realizar. \n",
    "Pressione + para adição; \n",
    "- para subtração; \n",
    "/ para divisão; \n",
    "* para multiplicação\"\"\")"
   ]
  },
  {
   "cell_type": "code",
   "execution_count": 27,
   "id": "d048b50a-8f3c-40d4-9647-c85313d21436",
   "metadata": {
    "tags": []
   },
   "outputs": [],
   "source": [
    "def leitora_operacao() -> str:\n",
    "    operacao = input(\"\"\"Digite a operação que deseja realizar. \n",
    "Pressione + para adição; \n",
    "- para subtração; \n",
    "/ para divisão; \n",
    "* para multiplicação\"\"\")\n",
    "    return operacao"
   ]
  },
  {
   "cell_type": "code",
   "execution_count": 25,
   "id": "9d1f60df-0b07-4c16-ab2f-606f4badb84e",
   "metadata": {
    "tags": []
   },
   "outputs": [
    {
     "name": "stdin",
     "output_type": "stream",
     "text": [
      "Digite o primeiro número 1 que deseja operar 5\n",
      "Digite o primeiro número 2 que deseja operar 6\n",
      "Digite a operação que deseja realizar. \n",
      "Pressione + para adição; \n",
      "- para subtração; \n",
      "/ para divisão; \n",
      "* para multiplicação +\n"
     ]
    },
    {
     "data": {
      "text/plain": [
       "[[5.0, 6.0], '+']"
      ]
     },
     "execution_count": 25,
     "metadata": {},
     "output_type": "execute_result"
    }
   ],
   "source": [
    "def leitora() -> list:\n",
    "    lista_numeros = leitora_numeros()\n",
    "    operacao = leitora_operacao()\n",
    "    return [lista_numeros, operacao]\n",
    "\n",
    "leitora()\n"
   ]
  },
  {
   "cell_type": "markdown",
   "id": "73d68835-287e-48a0-b1aa-7d59bd50f82a",
   "metadata": {
    "tags": []
   },
   "source": [
    "# Função de saída de dados\n"
   ]
  },
  {
   "cell_type": "code",
   "execution_count": 30,
   "id": "e8d8f6d2-c37d-4799-b975-e0f5bfe0013e",
   "metadata": {
    "tags": []
   },
   "outputs": [
    {
     "name": "stdout",
     "output_type": "stream",
     "text": [
      "2\n"
     ]
    }
   ],
   "source": [
    "resultado = 2\n",
    "print(resultado)"
   ]
  },
  {
   "cell_type": "code",
   "execution_count": 32,
   "id": "bce71f5d-d9e3-4c82-86f4-cdc772d9282d",
   "metadata": {
    "tags": []
   },
   "outputs": [
    {
     "name": "stdout",
     "output_type": "stream",
     "text": [
      "O resultado da operação é igual a 2.\n"
     ]
    }
   ],
   "source": [
    "print(f\"O resultado da operação é igual a {resultado}.\")"
   ]
  },
  {
   "cell_type": "code",
   "execution_count": 34,
   "id": "fb0a08f5-d574-45f2-9711-2b744231a818",
   "metadata": {
    "tags": []
   },
   "outputs": [
    {
     "name": "stdout",
     "output_type": "stream",
     "text": [
      "O resultado da operação é igual a 9.\n"
     ]
    }
   ],
   "source": [
    "def escritora(resultado):\n",
    "    print(f\"O resultado da operação é igual a {resultado}.\")\n",
    "    \n",
    "resultado = 9\n",
    "\n",
    "escritora(resultado)"
   ]
  },
  {
   "cell_type": "code",
   "execution_count": null,
   "id": "67b6dfaa-3947-41c4-af84-66ae0ea5810b",
   "metadata": {},
   "outputs": [],
   "source": [
    "def escritora(resultado:float) -> None:\n",
    "    \"\"\"Esta função coloca o resultado na tela\"\"\"\n",
    "    print(f\"O resultado da operação é igual a {resultado}.\")\n"
   ]
  }
 ],
 "metadata": {
  "kernelspec": {
   "display_name": "Python 3 (ipykernel)",
   "language": "python",
   "name": "python3"
  },
  "language_info": {
   "codemirror_mode": {
    "name": "ipython",
    "version": 3
   },
   "file_extension": ".py",
   "mimetype": "text/x-python",
   "name": "python",
   "nbconvert_exporter": "python",
   "pygments_lexer": "ipython3",
   "version": "3.11.5"
  }
 },
 "nbformat": 4,
 "nbformat_minor": 5
}
