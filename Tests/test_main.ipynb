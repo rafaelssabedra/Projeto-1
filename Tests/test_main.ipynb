{
 "cells": [
  {
   "cell_type": "markdown",
   "id": "ad1b62d8-2f9f-49a1-9581-ea577f9209a3",
   "metadata": {},
   "source": [
    "# Módulo Principal\n"
   ]
  },
  {
   "cell_type": "code",
   "execution_count": 5,
   "id": "0c5e4a04-01ee-47cb-8267-d6a0693c1dd6",
   "metadata": {
    "tags": []
   },
   "outputs": [],
   "source": [
    "# Importação dos módulos\n",
    "\n",
    "import test_es\n",
    "import test_proc"
   ]
  },
  {
   "cell_type": "code",
   "execution_count": 9,
   "id": "950018cb-9a7f-4b63-add1-99d528208325",
   "metadata": {
    "tags": []
   },
   "outputs": [
    {
     "name": "stdin",
     "output_type": "stream",
     "text": [
      "Digite o primeiro número 1 que deseja operar 2\n",
      "Digite o primeiro número 2 que deseja operar 3\n",
      "Digite a operação que deseja realizar. \n",
      "Pressione + para adição; \n",
      "- para subtração; \n",
      "/ para divisão; \n",
      "* para multiplicação *\n"
     ]
    }
   ],
   "source": [
    "dados = test_es.leitora()"
   ]
  },
  {
   "cell_type": "code",
   "execution_count": 11,
   "id": "7ff56952-e7f8-4c9a-bcc3-8215b7c5277d",
   "metadata": {
    "tags": []
   },
   "outputs": [
    {
     "data": {
      "text/plain": [
       "[[2.0, 3.0], '*']"
      ]
     },
     "execution_count": 11,
     "metadata": {},
     "output_type": "execute_result"
    }
   ],
   "source": [
    "dados\n"
   ]
  },
  {
   "cell_type": "code",
   "execution_count": 16,
   "id": "70740afa-e662-4e33-acb2-0d2de10c8dbc",
   "metadata": {
    "tags": []
   },
   "outputs": [],
   "source": [
    "if dados[1] == \"+\":\n",
    "    resultado = test_proc.somadora(dados[0][0], dados[0][1])\n",
    "    print(resultado)\n",
    "    \n",
    "elif dados[1] == \"-\":\n",
    "    resultado = test_proc.diminuidora(dados[0][0], dados[0][1])\n",
    "    \n",
    "elif dados[1] == \"/\":\n",
    "    resultado = test_proc.div(dados[0][0], dados[0][1])\n",
    "    \n",
    "else:\n",
    "    resultado = test_proc.mult(dados[0][0], dados[0][1])"
   ]
  },
  {
   "cell_type": "code",
   "execution_count": 17,
   "id": "76f9f0ed-b16b-4e5a-a334-7e362df1113c",
   "metadata": {
    "tags": []
   },
   "outputs": [],
   "source": [
    "def escolhedora(dados: list) -> float: \n",
    "    \"\"\"Esta função escolhe a operação adequada de acordo com o usuário\"\"\"\n",
    "    if dados[1] == \"+\":\n",
    "        resultado = test_proc.somadora(dados[0][0], dados[0][1])\n",
    "    elif dados[1] == \"-\":\n",
    "        resultado = test_proc.diminuidora(dados[0][0], dados[0][1])  \n",
    "    elif dados[1] == \"/\":\n",
    "        resultado = test_proc.div(dados[0][0], dados[0][1])\n",
    "    else:\n",
    "        resultado = test_proc.mult(dados[0][0], dados[0][1])\n",
    "    return resultado"
   ]
  },
  {
   "cell_type": "code",
   "execution_count": null,
   "id": "05af8f7a-e688-4c12-926c-ed6c92f6f264",
   "metadata": {},
   "outputs": [],
   "source": []
  }
 ],
 "metadata": {
  "kernelspec": {
   "display_name": "Python 3 (ipykernel)",
   "language": "python",
   "name": "python3"
  },
  "language_info": {
   "codemirror_mode": {
    "name": "ipython",
    "version": 3
   },
   "file_extension": ".py",
   "mimetype": "text/x-python",
   "name": "python",
   "nbconvert_exporter": "python",
   "pygments_lexer": "ipython3",
   "version": "3.11.5"
  }
 },
 "nbformat": 4,
 "nbformat_minor": 5
}
