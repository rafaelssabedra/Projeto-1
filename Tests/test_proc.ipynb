{
 "cells": [
  {
   "cell_type": "markdown",
   "id": "d0f46e75-9424-4719-9f5d-0e5b213a032f",
   "metadata": {},
   "source": [
    "# Módulo de processamento"
   ]
  },
  {
   "cell_type": "markdown",
   "id": "480f58a1-89ca-4203-8031-9a0d88b636c8",
   "metadata": {},
   "source": [
    "## Requisito 1 - Desenvolvimento da função de soma"
   ]
  },
  {
   "cell_type": "code",
   "execution_count": 19,
   "id": "dbb46944-8a9d-4873-a82f-1563ce9db1ca",
   "metadata": {
    "tags": []
   },
   "outputs": [
    {
     "data": {
      "text/plain": [
       "5"
      ]
     },
     "execution_count": 19,
     "metadata": {},
     "output_type": "execute_result"
    }
   ],
   "source": [
    "2 + 3"
   ]
  },
  {
   "cell_type": "code",
   "execution_count": 4,
   "id": "c93f48fe-9890-4bef-bdf9-20241c894c05",
   "metadata": {
    "tags": []
   },
   "outputs": [
    {
     "data": {
      "text/plain": [
       "10"
      ]
     },
     "execution_count": 4,
     "metadata": {},
     "output_type": "execute_result"
    }
   ],
   "source": [
    "x = 4\n",
    "y = 6\n",
    "x + y"
   ]
  },
  {
   "cell_type": "code",
   "execution_count": 7,
   "id": "ca6d280b-f493-4169-961a-34c5c41fb957",
   "metadata": {
    "tags": []
   },
   "outputs": [
    {
     "name": "stdout",
     "output_type": "stream",
     "text": [
      "10\n"
     ]
    }
   ],
   "source": [
    "z = x + y\n",
    "print(z)"
   ]
  },
  {
   "cell_type": "code",
   "execution_count": 8,
   "id": "394c7bba-9fca-441c-811e-349ac780e7b6",
   "metadata": {
    "tags": []
   },
   "outputs": [
    {
     "data": {
      "text/plain": [
       "13"
      ]
     },
     "execution_count": 8,
     "metadata": {},
     "output_type": "execute_result"
    }
   ],
   "source": [
    "def somadora(x,y):\n",
    "    return x + y\n",
    "\n",
    "somadora(5,8)"
   ]
  },
  {
   "cell_type": "code",
   "execution_count": 10,
   "id": "2ed347ad-5108-4800-a31a-ff4cec19201b",
   "metadata": {
    "tags": []
   },
   "outputs": [
    {
     "data": {
      "text/plain": [
       "11"
      ]
     },
     "execution_count": 10,
     "metadata": {},
     "output_type": "execute_result"
    }
   ],
   "source": [
    "def somadora(numero1: float, numero2: float) -> float:\n",
    "    \"\"\"Esta função pega dois números reais e retorna a soma deles\"\"\"\n",
    "    return numero1 + numero2\n",
    "\n",
    "somadora(7,4)\n",
    "    "
   ]
  },
  {
   "cell_type": "markdown",
   "id": "9094910a-27be-4fe2-9da4-31f88177a8ee",
   "metadata": {
    "tags": []
   },
   "source": [
    "# Requisito 2 - Desenvolvimento da função subtração"
   ]
  },
  {
   "cell_type": "code",
   "execution_count": 20,
   "id": "75ecbca5-ef2c-4c06-aa64-7de96ebb6316",
   "metadata": {
    "tags": []
   },
   "outputs": [
    {
     "data": {
      "text/plain": [
       "1"
      ]
     },
     "execution_count": 20,
     "metadata": {},
     "output_type": "execute_result"
    }
   ],
   "source": [
    "9 - 8"
   ]
  },
  {
   "cell_type": "code",
   "execution_count": 21,
   "id": "cce69c5d-e651-459f-a0de-d4bbe1813194",
   "metadata": {
    "tags": []
   },
   "outputs": [
    {
     "data": {
      "text/plain": [
       "1"
      ]
     },
     "execution_count": 21,
     "metadata": {},
     "output_type": "execute_result"
    }
   ],
   "source": [
    "x = 7\n",
    "y = 6\n",
    "x - y"
   ]
  },
  {
   "cell_type": "code",
   "execution_count": 23,
   "id": "5a8fbcde-a85b-4880-8dd1-2e9314845892",
   "metadata": {
    "tags": []
   },
   "outputs": [
    {
     "name": "stdout",
     "output_type": "stream",
     "text": [
      "1\n"
     ]
    }
   ],
   "source": [
    "z = x - y\n",
    "print(z)"
   ]
  },
  {
   "cell_type": "code",
   "execution_count": 15,
   "id": "423a2701-9cfb-429d-8720-5c58b62b9373",
   "metadata": {
    "tags": []
   },
   "outputs": [
    {
     "data": {
      "text/plain": [
       "-3"
      ]
     },
     "execution_count": 15,
     "metadata": {},
     "output_type": "execute_result"
    }
   ],
   "source": [
    "def diminuidora(x,y):\n",
    "    return x - y\n",
    "\n",
    "diminuidora(5,8)"
   ]
  },
  {
   "cell_type": "code",
   "execution_count": 16,
   "id": "a66ba1b6-76c5-4c55-ab3e-066adc640961",
   "metadata": {
    "tags": []
   },
   "outputs": [
    {
     "data": {
      "text/plain": [
       "3"
      ]
     },
     "execution_count": 16,
     "metadata": {},
     "output_type": "execute_result"
    }
   ],
   "source": [
    "def diminuidora(numero1: float, numero2: float) -> float:\n",
    "    \"\"\"Esta função pega dois números reais e retorna a subtração deles\"\"\"\n",
    "    return numero1 - numero2\n",
    "\n",
    "diminuidora(7,4)\n",
    "    "
   ]
  },
  {
   "cell_type": "markdown",
   "id": "4a25de7e-522c-4966-b16b-d72f3a8d2a42",
   "metadata": {},
   "source": [
    "# Requisito 3 - Desenvolvimento da função mult"
   ]
  },
  {
   "cell_type": "code",
   "execution_count": 25,
   "id": "17ae76dd-8156-4a7a-a02c-c23fafdf5822",
   "metadata": {
    "tags": []
   },
   "outputs": [
    {
     "data": {
      "text/plain": [
       "72"
      ]
     },
     "execution_count": 25,
     "metadata": {},
     "output_type": "execute_result"
    }
   ],
   "source": [
    "9 * 8"
   ]
  },
  {
   "cell_type": "code",
   "execution_count": 27,
   "id": "aac36593-0c83-4b54-8719-e4cd7cee430b",
   "metadata": {
    "tags": []
   },
   "outputs": [
    {
     "data": {
      "text/plain": [
       "42"
      ]
     },
     "execution_count": 27,
     "metadata": {},
     "output_type": "execute_result"
    }
   ],
   "source": [
    "x = 7\n",
    "y = 6\n",
    "x * y"
   ]
  },
  {
   "cell_type": "code",
   "execution_count": 28,
   "id": "8154a612-f97f-4c42-adfa-6cda645a575b",
   "metadata": {
    "tags": []
   },
   "outputs": [
    {
     "name": "stdout",
     "output_type": "stream",
     "text": [
      "42\n"
     ]
    }
   ],
   "source": [
    "z = x * y\n",
    "print(z)"
   ]
  },
  {
   "cell_type": "code",
   "execution_count": 29,
   "id": "00cd7a5e-b7f5-41de-90e8-8a5f4ab84bc3",
   "metadata": {
    "tags": []
   },
   "outputs": [
    {
     "data": {
      "text/plain": [
       "40"
      ]
     },
     "execution_count": 29,
     "metadata": {},
     "output_type": "execute_result"
    }
   ],
   "source": [
    "def mult(x,y):\n",
    "    return x * y\n",
    "\n",
    "mult(5,8)"
   ]
  },
  {
   "cell_type": "code",
   "execution_count": 32,
   "id": "9d798b3d-c823-41aa-9166-54a671cc3e38",
   "metadata": {
    "tags": []
   },
   "outputs": [
    {
     "data": {
      "text/plain": [
       "28"
      ]
     },
     "execution_count": 32,
     "metadata": {},
     "output_type": "execute_result"
    }
   ],
   "source": [
    "def mult(numero1: float, numero2: float) -> float:\n",
    "    \"\"\"Esta função pega dois números reais e retorna a multiplicação deles\"\"\"\n",
    "    return numero1 * numero2\n",
    "\n",
    "mult(7,4)"
   ]
  },
  {
   "cell_type": "code",
   "execution_count": null,
   "id": "5dc9babe-fe88-4537-94c7-170a8a3d7beb",
   "metadata": {},
   "outputs": [],
   "source": [
    "# Requisito 3 - Desenvolvimento da função div"
   ]
  },
  {
   "cell_type": "code",
   "execution_count": 34,
   "id": "674c0910-eb7f-4bca-8025-7a73ca90c749",
   "metadata": {
    "tags": []
   },
   "outputs": [
    {
     "data": {
      "text/plain": [
       "2.0"
      ]
     },
     "execution_count": 34,
     "metadata": {},
     "output_type": "execute_result"
    }
   ],
   "source": [
    "16 / 8"
   ]
  },
  {
   "cell_type": "code",
   "execution_count": 37,
   "id": "77c2c988-e062-46d4-959d-0493aaa0ab98",
   "metadata": {
    "tags": []
   },
   "outputs": [
    {
     "data": {
      "text/plain": [
       "2.0"
      ]
     },
     "execution_count": 37,
     "metadata": {},
     "output_type": "execute_result"
    }
   ],
   "source": [
    "x = 16\n",
    "y = 8\n",
    "x / y"
   ]
  },
  {
   "cell_type": "code",
   "execution_count": 38,
   "id": "274a5040-8bd1-4b48-bbbf-82eb86c5249d",
   "metadata": {
    "tags": []
   },
   "outputs": [
    {
     "name": "stdout",
     "output_type": "stream",
     "text": [
      "2.0\n"
     ]
    }
   ],
   "source": [
    "z = x / y\n",
    "print(z)"
   ]
  },
  {
   "cell_type": "code",
   "execution_count": 43,
   "id": "54491114-8e26-4011-8131-be3d2a1b1011",
   "metadata": {
    "tags": []
   },
   "outputs": [
    {
     "data": {
      "text/plain": [
       "4.0"
      ]
     },
     "execution_count": 43,
     "metadata": {},
     "output_type": "execute_result"
    }
   ],
   "source": [
    "def div(x,y):\n",
    "    return x / y\n",
    "\n",
    "div(32,8)"
   ]
  },
  {
   "cell_type": "code",
   "execution_count": 45,
   "id": "33a4f63d-f332-49cf-a91a-12f9eaa61e8d",
   "metadata": {
    "tags": []
   },
   "outputs": [
    {
     "data": {
      "text/plain": [
       "8.0"
      ]
     },
     "execution_count": 45,
     "metadata": {},
     "output_type": "execute_result"
    }
   ],
   "source": [
    "def div(numero1: float, numero2: float) -> float:\n",
    "    \"\"\"Esta função pega dois números reais e retorna a divisão deles\"\"\"\n",
    "    return numero1 / numero2\n",
    "\n",
    "div(8,1)"
   ]
  },
  {
   "cell_type": "code",
   "execution_count": 58,
   "id": "5b7d0f06-95bc-4feb-88c6-f715c1087cc3",
   "metadata": {
    "tags": []
   },
   "outputs": [
    {
     "data": {
      "text/plain": [
       "'Não existe divisão por zero.'"
      ]
     },
     "execution_count": 58,
     "metadata": {},
     "output_type": "execute_result"
    }
   ],
   "source": [
    "def div(numero1: float, numero2: float) -> float:\n",
    "    \"\"\"Esta função pega dois números reais e retorna a divisão deles\"\"\"\n",
    "    if numero2 == 0:\n",
    "        resultado = \"Não existe divisão por zero.\"\n",
    "    else:\n",
    "            resultado = numero1 / numero2\n",
    "           \n",
    "    return resultado\n",
    "   \n",
    "div(81,0)"
   ]
  },
  {
   "cell_type": "code",
   "execution_count": null,
   "id": "0c1383e3-ba2e-41d3-b4d8-6d335b181172",
   "metadata": {},
   "outputs": [],
   "source": []
  }
 ],
 "metadata": {
  "kernelspec": {
   "display_name": "Python 3 (ipykernel)",
   "language": "python",
   "name": "python3"
  },
  "language_info": {
   "codemirror_mode": {
    "name": "ipython",
    "version": 3
   },
   "file_extension": ".py",
   "mimetype": "text/x-python",
   "name": "python",
   "nbconvert_exporter": "python",
   "pygments_lexer": "ipython3",
   "version": "3.11.5"
  }
 },
 "nbformat": 4,
 "nbformat_minor": 5
}
